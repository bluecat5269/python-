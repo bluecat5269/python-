{
 "cells": [
  {
   "cell_type": "code",
   "execution_count": 3,
   "metadata": {},
   "outputs": [
    {
     "data": {
      "application/vnd.jupyter.widget-view+json": {
       "model_id": "14babfc73cde47a7b9eae417c21d8435",
       "version_major": 2,
       "version_minor": 0
      },
      "text/plain": [
       "interactive(children=(Dropdown(description='x', options={'請選擇': '', 'hiphop': 'hiphop', 'school cypher': 'scho…"
      ]
     },
     "metadata": {},
     "output_type": "display_data"
    }
   ],
   "source": [
    "%matplotlib inline\n",
    "import matplotlib.pyplot as plt\n",
    "import pandas as pd \n",
    "import numpy as np\n",
    "import webbrowser\n",
    "from ipywidgets import interact\n",
    "from IPython.display import display,HTML,Markdown,Image,YouTubeVideo\n",
    "\n",
    "hphp=[\"https://www.youtube.com/watch?v=LQzlY60VQzI\",\"https://www.youtube.com/watch?v=SfehQq0wC84\",\"https://www.youtube.com/watch?v=VR2sfNabfC8\",'https://www.youtube.com/watch?v=GcGrqV6e5jI','https://www.youtube.com/watch?v=Q6ki1V8CrrU','https://www.youtube.com/watch?v=tWWo_W1VGIo']\n",
    "scypher=['https://www.youtube.com/watch?v=3xYinsVoSUc','https://www.youtube.com/watch?v=cuPEW9TTh2k','https://www.youtube.com/watch?v=Uof_GFjP_aw','https://www.youtube.com/watch?v=8OHn2MyszW8']\n",
    "kpop=[\"https://www.youtube.com/watch?v=nUOeg1LYF7Y\",'https://www.youtube.com/watch?v=ycYLPbtxU1Q','https://www.youtube.com/watch?v=FJ8kJdTYj1o','https://www.youtube.com/watch?v=9mQk7Evt6Vs','https://www.youtube.com/watch?v=UOxkGD8qRB4']\n",
    "m1=hphp[np.random.randint(0,5)]\n",
    "m2=scypher[np.random.randint(0,3)]\n",
    "m3=kpop[np.random.randint(0,4)]\n",
    "allmus=[m1,m2,m3]\n",
    "m4=allmus[np.random.randint(0,2)]\n",
    "def f(x):\n",
    "    if \"hiphop\" in x:\n",
    "        webbrowser.open(m1)\n",
    "    elif \"school cypher\" in x:\n",
    "        webbrowser.open(m2)\n",
    "    elif \"kpop\" in x:\n",
    "        webbrowser.open(m3)\n",
    "    elif \"隨機\" in x:\n",
    "        webbrowser.open(m4)\n",
    "\n",
    "        \n",
    "        \n",
    "interact(f, x={\"請選擇\":\"\",\"hiphop\":\"hiphop\",\"school cypher\":\"school cypher\",\"kpop\":\"kpop\",\"隨機\":\"隨機\"});\n",
    "\n"
   ]
  },
  {
   "cell_type": "code",
   "execution_count": null,
   "metadata": {},
   "outputs": [],
   "source": []
  },
  {
   "cell_type": "code",
   "execution_count": null,
   "metadata": {},
   "outputs": [],
   "source": []
  }
 ],
 "metadata": {
  "kernelspec": {
   "display_name": "Python 3",
   "language": "python",
   "name": "python3"
  },
  "language_info": {
   "codemirror_mode": {
    "name": "ipython",
    "version": 3
   },
   "file_extension": ".py",
   "mimetype": "text/x-python",
   "name": "python",
   "nbconvert_exporter": "python",
   "pygments_lexer": "ipython3",
   "version": "3.7.3"
  }
 },
 "nbformat": 4,
 "nbformat_minor": 2
}
