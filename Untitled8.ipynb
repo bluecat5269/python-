{
 "cells": [
  {
   "cell_type": "code",
   "execution_count": 10,
   "metadata": {},
   "outputs": [
    {
     "data": {
      "application/vnd.jupyter.widget-view+json": {
       "model_id": "139d775aee7e4be4aaee719091c5d65d",
       "version_major": 2,
       "version_minor": 0
      },
      "text/plain": [
       "interactive(children=(Dropdown(description='x', options={'請選擇': '', 'hiphop': 'hiphop', 'school cypher': 'scho…"
      ]
     },
     "metadata": {},
     "output_type": "display_data"
    }
   ],
   "source": [
    "%matplotlib inline\n",
    "import matplotlib.pyplot as plt\n",
    "import pandas as pd \n",
    "import numpy as np\n",
    "import webbrowser\n",
    "from ipywidgets import interact\n",
    "from IPython.display import display,HTML,Markdown,Image,YouTubeVideo\n",
    "\n",
    "hphp=[\"LQzlY60VQzI\",\"SfehQq0wC84\",\"VR2sfNabfC8\",'GcGrqV6e5jI','Q6ki1V8CrrU','tWWo_W1VGIo']\n",
    "scypher=['xK93ninHyss','3vXR5dN1xQE','BODNEIfGbE0','qozpnsbFs58']\n",
    "kpop=[\"nUOeg1LYF7Y\",'ycYLPbtxU1Q','FJ8kJdTYj1o','9mQk7Evt6Vs','UOxkGD8qRB4']\n",
    "m1=hphp[np.random.randint(0,5)]\n",
    "m2=scypher[np.random.randint(0,3)]\n",
    "m3=kpop[np.random.randint(0,4)]\n",
    "allmus=[m1,m2,m3]\n",
    "m4=allmus[np.random.randint(0,2)]\n",
    "def f(x):\n",
    "    if \"hiphop\" in x:\n",
    "        yt1=YouTubeVideo(m1)\n",
    "        display(yt1)\n",
    "    elif \"school cypher\" in x:\n",
    "        yt2=YouTubeVideo(m2)\n",
    "        display(yt2)\n",
    "    elif \"kpop\" in x:\n",
    "        yt3=YouTubeVideo(m3)\n",
    "        display(yt3)\n",
    "    elif \"隨機\" in x:\n",
    "        yt4=YouTubeVideo(m4)\n",
    "        display(yt4)\n",
    "        \n",
    "        \n",
    "interact(f, x={\"請選擇\":\"\",\"hiphop\":\"hiphop\",\"school cypher\":\"school cypher\",\"kpop\":\"kpop\",\"隨機\":\"隨機\"});"
   ]
  },
  {
   "cell_type": "code",
   "execution_count": null,
   "metadata": {},
   "outputs": [],
   "source": [
    "\n"
   ]
  },
  {
   "cell_type": "code",
   "execution_count": null,
   "metadata": {},
   "outputs": [],
   "source": []
  }
 ],
 "metadata": {
  "kernelspec": {
   "display_name": "Python 3",
   "language": "python",
   "name": "python3"
  },
  "language_info": {
   "codemirror_mode": {
    "name": "ipython",
    "version": 3
   },
   "file_extension": ".py",
   "mimetype": "text/x-python",
   "name": "python",
   "nbconvert_exporter": "python",
   "pygments_lexer": "ipython3",
   "version": "3.7.3"
  }
 },
 "nbformat": 4,
 "nbformat_minor": 2
}
