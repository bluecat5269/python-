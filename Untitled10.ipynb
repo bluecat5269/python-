{
 "cells": [
  {
   "cell_type": "code",
   "execution_count": 1,
   "metadata": {},
   "outputs": [],
   "source": [
    "%matplotlib inline\n",
    "import matplotlib.pyplot as plt\n",
    "import pandas as pd \n",
    "import numpy as np\n",
    "import webbrowser\n",
    "from ipywidgets import interact\n",
    "from IPython.display import display,HTML,Markdown,Image,YouTubeVideo"
   ]
  },
  {
   "cell_type": "code",
   "execution_count": 31,
   "metadata": {
    "scrolled": true
   },
   "outputs": [
    {
     "name": "stdout",
     "output_type": "stream",
     "text": [
      "                                                 %                                                  \n",
      "                                             &&&&&&&&&                                              \n",
      "                                                %%%                                                 \n",
      "                                              &&&&&&&                                               \n",
      "                                               %%%%%                                                \n",
      "                                               &&&&&                                                \n",
      "                                              %%%%%%%                                               \n",
      "                                                &&&                                                 \n",
      "                                             %%%%%%%%%                                              \n",
      "                                                 &                                                  \n"
     ]
    }
   ],
   "source": [
    "level=5\n",
    "\n",
    "for i in range(level):\n",
    "    P=\"%\"*(2*i+1)\n",
    "    print(f\"{P:^100s}\")\n",
    "    K=\"&\"*(2*(4-i)+1)\n",
    "    print(f\"{K:^100s}\")"
   ]
  },
  {
   "cell_type": "code",
   "execution_count": null,
   "metadata": {},
   "outputs": [],
   "source": []
  },
  {
   "cell_type": "code",
   "execution_count": null,
   "metadata": {},
   "outputs": [],
   "source": []
  }
 ],
 "metadata": {
  "kernelspec": {
   "display_name": "Python 3",
   "language": "python",
   "name": "python3"
  },
  "language_info": {
   "codemirror_mode": {
    "name": "ipython",
    "version": 3
   },
   "file_extension": ".py",
   "mimetype": "text/x-python",
   "name": "python",
   "nbconvert_exporter": "python",
   "pygments_lexer": "ipython3",
   "version": "3.7.3"
  }
 },
 "nbformat": 4,
 "nbformat_minor": 2
}
